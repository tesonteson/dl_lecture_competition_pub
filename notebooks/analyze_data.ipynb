{
 "cells": [
  {
   "cell_type": "code",
   "execution_count": 1,
   "metadata": {},
   "outputs": [],
   "source": [
    "import pandas as pd"
   ]
  },
  {
   "cell_type": "code",
   "execution_count": 3,
   "metadata": {},
   "outputs": [
    {
     "data": {
      "text/html": [
       "<div>\n",
       "<style scoped>\n",
       "    .dataframe tbody tr th:only-of-type {\n",
       "        vertical-align: middle;\n",
       "    }\n",
       "\n",
       "    .dataframe tbody tr th {\n",
       "        vertical-align: top;\n",
       "    }\n",
       "\n",
       "    .dataframe thead th {\n",
       "        text-align: right;\n",
       "    }\n",
       "</style>\n",
       "<table border=\"1\" class=\"dataframe\">\n",
       "  <thead>\n",
       "    <tr style=\"text-align: right;\">\n",
       "      <th></th>\n",
       "      <th>image</th>\n",
       "      <th>question</th>\n",
       "      <th>answers</th>\n",
       "    </tr>\n",
       "  </thead>\n",
       "  <tbody>\n",
       "    <tr>\n",
       "      <th>0</th>\n",
       "      <td>train_00000.jpg</td>\n",
       "      <td>What is this?</td>\n",
       "      <td>[{'answer_confidence': 'yes', 'answer': 'beef ...</td>\n",
       "    </tr>\n",
       "    <tr>\n",
       "      <th>1</th>\n",
       "      <td>train_00001.jpg</td>\n",
       "      <td>maybe it's because you're pushing it down instead</td>\n",
       "      <td>[{'answer_confidence': 'yes', 'answer': 'unans...</td>\n",
       "    </tr>\n",
       "    <tr>\n",
       "      <th>2</th>\n",
       "      <td>train_00002.jpg</td>\n",
       "      <td>What color is this item?</td>\n",
       "      <td>[{'answer_confidence': 'yes', 'answer': 'grey'...</td>\n",
       "    </tr>\n",
       "    <tr>\n",
       "      <th>3</th>\n",
       "      <td>train_00003.jpg</td>\n",
       "      <td>Can you tell me if this is like body wash or l...</td>\n",
       "      <td>[{'answer_confidence': 'maybe', 'answer': 'lot...</td>\n",
       "    </tr>\n",
       "    <tr>\n",
       "      <th>4</th>\n",
       "      <td>train_00004.jpg</td>\n",
       "      <td>Is it a paper?</td>\n",
       "      <td>[{'answer_confidence': 'yes', 'answer': 'no'},...</td>\n",
       "    </tr>\n",
       "  </tbody>\n",
       "</table>\n",
       "</div>"
      ],
      "text/plain": [
       "             image                                           question  \\\n",
       "0  train_00000.jpg                                      What is this?   \n",
       "1  train_00001.jpg  maybe it's because you're pushing it down instead   \n",
       "2  train_00002.jpg                           What color is this item?   \n",
       "3  train_00003.jpg  Can you tell me if this is like body wash or l...   \n",
       "4  train_00004.jpg                                     Is it a paper?   \n",
       "\n",
       "                                             answers  \n",
       "0  [{'answer_confidence': 'yes', 'answer': 'beef ...  \n",
       "1  [{'answer_confidence': 'yes', 'answer': 'unans...  \n",
       "2  [{'answer_confidence': 'yes', 'answer': 'grey'...  \n",
       "3  [{'answer_confidence': 'maybe', 'answer': 'lot...  \n",
       "4  [{'answer_confidence': 'yes', 'answer': 'no'},...  "
      ]
     },
     "execution_count": 3,
     "metadata": {},
     "output_type": "execute_result"
    }
   ],
   "source": [
    "train_data = pd.read_json(\"../data/train.json\")\n",
    "train_data.head()"
   ]
  },
  {
   "cell_type": "code",
   "execution_count": 9,
   "metadata": {},
   "outputs": [
    {
     "name": "stdout",
     "output_type": "stream",
     "text": [
      "answer_confidence:yes, answer:beef chuck steak\n",
      "answer_confidence:yes, answer:beef chuck steak\n",
      "answer_confidence:yes, answer:beef chuck steak\n",
      "answer_confidence:yes, answer:beef chuck steak\n",
      "answer_confidence:yes, answer:flat iron beef chuck steak\n",
      "answer_confidence:yes, answer:beef chuck steak\n",
      "answer_confidence:yes, answer:steak\n",
      "answer_confidence:yes, answer:flat iron beef chuck steak\n",
      "answer_confidence:yes, answer:beef chuck steak\n",
      "answer_confidence:yes, answer:beef chuck steak\n"
     ]
    }
   ],
   "source": [
    "for i in range(train_data.shape[0]):\n",
    "    for answer in train_data[\"answers\"].iloc[0]:\n",
    "        print(f\"answer_confidence:{answer['answer_confidence']}, answer:{answer['answer']}\")"
   ]
  },
  {
   "cell_type": "code",
   "execution_count": null,
   "metadata": {},
   "outputs": [],
   "source": []
  }
 ],
 "metadata": {
  "kernelspec": {
   "display_name": "Python 3",
   "language": "python",
   "name": "python3"
  },
  "language_info": {
   "codemirror_mode": {
    "name": "ipython",
    "version": 3
   },
   "file_extension": ".py",
   "mimetype": "text/x-python",
   "name": "python",
   "nbconvert_exporter": "python",
   "pygments_lexer": "ipython3",
   "version": "3.11.2"
  }
 },
 "nbformat": 4,
 "nbformat_minor": 2
}
